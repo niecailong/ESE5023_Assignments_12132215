{
 "cells": [
  {
   "cell_type": "code",
   "execution_count": 1,
   "id": "bb3cc8a7",
   "metadata": {},
   "outputs": [
    {
     "data": {
      "text/plain": [
       "Country\n",
       "AFGHANISTAN                             13068.0\n",
       "ALBANIA                                  3092.0\n",
       "ALGERIA                                 39339.0\n",
       "ANTARCTICA                                  0.0\n",
       "ANTIGUA AND BARBUDA                         0.0\n",
       "                                         ...   \n",
       "VENEZUELA                               44480.0\n",
       "VIETNAM                                     0.0\n",
       "WALLIS AND FUTUNA (FRENCH TERRITORY)        5.0\n",
       "YEMEN                                    4192.0\n",
       "ZAMBIA                                      0.0\n",
       "Name: Deaths, Length: 156, dtype: float64"
      ]
     },
     "execution_count": 1,
     "metadata": {},
     "output_type": "execute_result"
    }
   ],
   "source": [
    "#1\n",
    "import pandas as pd\n",
    "\n",
    "Sig_Eqs= pd.read_csv('earthquakes-2021-10-23_11-03-55_+0800.txt',sep='\\t')\n",
    "Sig_Eqs[Sig_Eqs['Country'] == 'AUSTRALIA'].sort_values('Mag',ascending=False)\n",
    "#1.1\n",
    "Sig_Eqs[Sig_Eqs['Year']>-2150].groupby('Country').sum()['Deaths']"
   ]
  }
 ],
 "metadata": {
  "kernelspec": {
   "display_name": "Python 3",
   "language": "python",
   "name": "python3"
  },
  "language_info": {
   "codemirror_mode": {
    "name": "ipython",
    "version": 3
   },
   "file_extension": ".py",
   "mimetype": "text/x-python",
   "name": "python",
   "nbconvert_exporter": "python",
   "pygments_lexer": "ipython3",
   "version": "3.8.8"
  }
 },
 "nbformat": 4,
 "nbformat_minor": 5
}
